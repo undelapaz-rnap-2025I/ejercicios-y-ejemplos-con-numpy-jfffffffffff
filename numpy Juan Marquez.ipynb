{
  "cells": [
    {
      "cell_type": "markdown",
      "metadata": {
        "id": "z9dathS_lkMu"
      },
      "source": [
        "# Learning and practicing NumPy with examples and exercises"
      ]
    },
    {
      "cell_type": "markdown",
      "metadata": {},
      "source": [
        "En este trabajo se resolvieron ejercicios con NumPy y Python, incluyendo indexación y slicing de arrays y tensores, operaciones de álgebra lineal (matrices, determinantes, eigenvalores), definición de funciones y clases en Python, y la implementación de descenso de gradiente para regresión lineal. Se explicó también el rol del learning rate en el proceso de optimización."
      ]
    },
    {
      "cell_type": "markdown",
      "metadata": {},
      "source": [
        "1. Indexación Básica en NumPy"
      ]
    },
    {
      "cell_type": "code",
      "execution_count": 41,
      "metadata": {},
      "outputs": [
        {
          "name": "stdout",
          "output_type": "stream",
          "text": [
            "30\n"
          ]
        }
      ],
      "source": [
        "import numpy as np\n",
        "\n",
        "# Crear un arreglo unidimensional\n",
        "arr = np.array([10, 20, 30, 40, 50])\n",
        "print(arr[2])  # Accede al tercer elemento (índice 2)\n"
      ]
    },
    {
      "cell_type": "markdown",
      "metadata": {},
      "source": [
        "2. Slicing (Corte) en 1D"
      ]
    },
    {
      "cell_type": "code",
      "execution_count": 42,
      "metadata": {},
      "outputs": [
        {
          "name": "stdout",
          "output_type": "stream",
          "text": [
            "[20 30 40]\n"
          ]
        }
      ],
      "source": [
        "arr = np.array([10, 20, 30, 40, 50])\n",
        "print(arr[1:4])  # Muestra los elementos del índice 1 al 3\n"
      ]
    },
    {
      "cell_type": "markdown",
      "metadata": {},
      "source": [
        "3. Indexación de Arrays 2D"
      ]
    },
    {
      "cell_type": "code",
      "execution_count": 43,
      "metadata": {},
      "outputs": [
        {
          "name": "stdout",
          "output_type": "stream",
          "text": [
            "6\n"
          ]
        }
      ],
      "source": [
        "arr = np.array([[1, 2, 3], [4, 5, 6], [7, 8, 9]])\n",
        "print(arr[1, 2])  # Accede al elemento en la segunda fila y tercera columna\n"
      ]
    },
    {
      "cell_type": "markdown",
      "metadata": {},
      "source": [
        " 4. Slicing en Arrays 2D\n",
        "\n"
      ]
    },
    {
      "cell_type": "code",
      "execution_count": 44,
      "metadata": {},
      "outputs": [
        {
          "name": "stdout",
          "output_type": "stream",
          "text": [
            "[[2 3]\n",
            " [5 6]]\n"
          ]
        }
      ],
      "source": [
        "arr = np.array([[1, 2, 3], [4, 5, 6], [7, 8, 9]])\n",
        "print(arr[:2, 1:])  # Fila 0 y 1, columnas desde la 1 en adelante\n"
      ]
    },
    {
      "cell_type": "markdown",
      "metadata": {},
      "source": [
        "5. Indexación en Tensores 3D"
      ]
    },
    {
      "cell_type": "code",
      "execution_count": 45,
      "metadata": {},
      "outputs": [
        {
          "name": "stdout",
          "output_type": "stream",
          "text": [
            "9\n",
            "[[ 7  8  9]\n",
            " [10 11 12]]\n"
          ]
        }
      ],
      "source": [
        "tensor = np.array([\n",
        "    [[1, 2, 3], [4, 5, 6]],\n",
        "    [[7, 8, 9], [10, 11, 12]],\n",
        "    [[13, 14, 15], [16, 17, 18]]\n",
        "])\n",
        "\n",
        "print(tensor[1, 0, 2])  # Elemento específico\n",
        "print(tensor[1])        # Submatriz 2D completa (primer \"slice\")\n"
      ]
    },
    {
      "cell_type": "markdown",
      "metadata": {},
      "source": [
        "6. Slicing en Tensores 3D"
      ]
    },
    {
      "cell_type": "code",
      "execution_count": 46,
      "metadata": {},
      "outputs": [
        {
          "name": "stdout",
          "output_type": "stream",
          "text": [
            "[[ 9 10 11]\n",
            " [12 13 14]\n",
            " [15 16 17]]\n",
            "[[ 3  4  5]\n",
            " [12 13 14]\n",
            " [21 22 23]]\n",
            "[[ 2  5  8]\n",
            " [11 14 17]\n",
            " [20 23 26]]\n"
          ]
        }
      ],
      "source": [
        "tensor = np.arange(27).reshape(3, 3, 3)\n",
        "\n",
        "print(tensor[1])         # Slice de la segunda \"capa\" (índice 1)\n",
        "print(tensor[:, 1, :])   # Fila 1 de cada capa\n",
        "print(tensor[:, :, 2])   # Columna 2 de cada fila de cada capa\n"
      ]
    },
    {
      "cell_type": "markdown",
      "metadata": {},
      "source": [
        "7. Indexación en Tensores 4D"
      ]
    },
    {
      "cell_type": "code",
      "execution_count": 47,
      "metadata": {},
      "outputs": [
        {
          "name": "stdout",
          "output_type": "stream",
          "text": [
            "43\n",
            "[[40 41 42 43]\n",
            " [44 45 46 47]]\n"
          ]
        }
      ],
      "source": [
        "tensor = np.arange(48).reshape(2, 3, 2, 4)\n",
        "\n",
        "print(tensor[1, 2, 0, 3])  # Accede al elemento específico\n",
        "print(tensor[1, 2])        # Muestra un bloque 2x4\n"
      ]
    },
    {
      "cell_type": "markdown",
      "metadata": {},
      "source": [
        "8. Slicing en Tensores 4D"
      ]
    },
    {
      "cell_type": "code",
      "execution_count": 48,
      "metadata": {},
      "outputs": [
        {
          "name": "stdout",
          "output_type": "stream",
          "text": [
            "[[[24 25 26 27]\n",
            "  [28 29 30 31]]\n",
            "\n",
            " [[32 33 34 35]\n",
            "  [36 37 38 39]]\n",
            "\n",
            " [[40 41 42 43]\n",
            "  [44 45 46 47]]]\n",
            "[[[16 17 18 19]\n",
            "  [20 21 22 23]]\n",
            "\n",
            " [[40 41 42 43]\n",
            "  [44 45 46 47]]]\n",
            "[[[ 0  1  2  3]\n",
            "  [ 8  9 10 11]\n",
            "  [16 17 18 19]]\n",
            "\n",
            " [[24 25 26 27]\n",
            "  [32 33 34 35]\n",
            "  [40 41 42 43]]]\n"
          ]
        }
      ],
      "source": [
        "tensor = np.arange(48).reshape(2, 3, 2, 4)\n",
        "\n",
        "print(tensor[1])              # Muestra el bloque completo de la segunda dimensión\n",
        "print(tensor[:, 2, :, :])     # Tercer bloque de cada grupo\n",
        "print(tensor[:, :, 0, :])     # Primer subgrupo (eje 2) en todos los bloques\n"
      ]
    },
    {
      "cell_type": "markdown",
      "metadata": {},
      "source": [
        " 9. Suma de Matrices"
      ]
    },
    {
      "cell_type": "code",
      "execution_count": 49,
      "metadata": {},
      "outputs": [
        {
          "name": "stdout",
          "output_type": "stream",
          "text": [
            "[[ 6  8]\n",
            " [10 12]]\n"
          ]
        }
      ],
      "source": [
        "A = np.array([[1, 2], [3, 4]])\n",
        "B = np.array([[5, 6], [7, 8]])\n",
        "\n",
        "result = A + B\n",
        "print(result)\n"
      ]
    },
    {
      "cell_type": "markdown",
      "metadata": {},
      "source": [
        "10. Multiplicación de Matrices"
      ]
    },
    {
      "cell_type": "code",
      "execution_count": 50,
      "metadata": {},
      "outputs": [
        {
          "name": "stdout",
          "output_type": "stream",
          "text": [
            "[[19 22]\n",
            " [43 50]]\n"
          ]
        }
      ],
      "source": [
        "A = np.array([[1, 2], [3, 4]])\n",
        "B = np.array([[5, 6], [7, 8]])\n",
        "\n",
        "result = np.dot(A, B)\n",
        "print(result)\n"
      ]
    },
    {
      "cell_type": "markdown",
      "metadata": {},
      "source": [
        "11. Transposición de una Matriz"
      ]
    },
    {
      "cell_type": "code",
      "execution_count": 51,
      "metadata": {},
      "outputs": [
        {
          "name": "stdout",
          "output_type": "stream",
          "text": [
            "[[1 3]\n",
            " [2 4]]\n"
          ]
        }
      ],
      "source": [
        "A = np.array([[1, 2], [3, 4]])\n",
        "result = np.transpose(A)\n",
        "print(result)"
      ]
    },
    {
      "cell_type": "markdown",
      "metadata": {},
      "source": [
        "12. Determinante e Inversa de una Matriz"
      ]
    },
    {
      "cell_type": "code",
      "execution_count": 52,
      "metadata": {},
      "outputs": [
        {
          "name": "stdout",
          "output_type": "stream",
          "text": [
            "Determinante: -2.0000000000000004\n",
            "Inversa:\n",
            " [[-2.   1. ]\n",
            " [ 1.5 -0.5]]\n"
          ]
        }
      ],
      "source": [
        "A = np.array([[1, 2], [3, 4]])\n",
        "\n",
        "det = np.linalg.det(A)\n",
        "inverse = np.linalg.inv(A)\n",
        "\n",
        "print(\"Determinante:\", det)\n",
        "print(\"Inversa:\\n\", inverse)"
      ]
    },
    {
      "cell_type": "markdown",
      "metadata": {},
      "source": [
        "13. Valores y Vectores Propios (Eigen)"
      ]
    },
    {
      "cell_type": "code",
      "execution_count": 53,
      "metadata": {},
      "outputs": [
        {
          "name": "stdout",
          "output_type": "stream",
          "text": [
            "Valores propios: [2.00000002 1.99999998]\n",
            "Vectores propios:\n",
            " [[-0.70710677 -0.70710679]\n",
            " [ 0.70710679  0.70710677]]\n"
          ]
        }
      ],
      "source": [
        "A = np.array([[1, -1], [1, 3]])\n",
        "\n",
        "eigenvalues, eigenvectors = np.linalg.eig(A)\n",
        "\n",
        "print(\"Valores propios:\", eigenvalues)\n",
        "print(\"Vectores propios:\\n\", eigenvectors)"
      ]
    },
    {
      "cell_type": "markdown",
      "metadata": {},
      "source": [
        "14. Solución de Sistemas de Ecuaciones Lineales"
      ]
    },
    {
      "cell_type": "code",
      "execution_count": 54,
      "metadata": {},
      "outputs": [
        {
          "name": "stdout",
          "output_type": "stream",
          "text": [
            "Solución: [1. 1.]\n"
          ]
        }
      ],
      "source": [
        "import numpy as np\n",
        "\n",
        "# Definimos el sistema de ecuaciones:\n",
        "# 2x + y = 3\n",
        "# x + y = 2\n",
        "\n",
        "A = np.array([[2, 1], [1, 1]])  # Matriz de coeficientes\n",
        "b = np.array([3, 2])            # Vector de términos independientes\n",
        "\n",
        "# Resolvemos el sistema Ax = b\n",
        "solution = np.linalg.solve(A, b)\n",
        "\n",
        "print(\"Solución:\", solution)  # Output: [1. 1.]\n"
      ]
    },
    {
      "cell_type": "markdown",
      "metadata": {},
      "source": [
        " 15. Optimización con Descenso del Gradiente (Regresión Lineal)"
      ]
    },
    {
      "cell_type": "code",
      "execution_count": 55,
      "metadata": {},
      "outputs": [
        {
          "name": "stdout",
          "output_type": "stream",
          "text": [
            "Parámetros óptimos (theta):\n",
            " [[4.22215108]\n",
            " [2.96846751]]\n"
          ]
        }
      ],
      "source": [
        "# Importamos NumPy\n",
        "import numpy as np\n",
        "\n",
        "# Establecemos una semilla para reproducibilidad\n",
        "np.random.seed(0)\n",
        "\n",
        "# Generamos datos de entrenamiento simulados\n",
        "X = 2 * np.random.rand(100, 1)       # 100 muestras entre 0 y 2\n",
        "y = 4 + 3 * X + np.random.randn(100, 1)  # y = 4 + 3x + ruido\n",
        "\n",
        "# Añadimos el término de sesgo (bias) al conjunto de características\n",
        "# Esto se hace concatenando una columna de 1s a X\n",
        "X_b = np.c_[np.ones((100, 1)), X]    # X_b.shape = (100, 2)\n",
        "\n",
        "# Hiperparámetros\n",
        "learning_rate = 0.1      # Tasa de aprendizaje (α)\n",
        "n_iterations = 1000      # Número de iteraciones\n",
        "\n",
        "# Inicializamos los parámetros theta aleatoriamente\n",
        "theta = np.random.randn(2, 1)  # theta.shape = (2, 1)\n",
        "\n",
        "# Descenso del gradiente\n",
        "for iteration in range(n_iterations):\n",
        "    # Calculamos el gradiente del costo con respecto a theta\n",
        "    gradients = 2 / 100 * X_b.T.dot(X_b.dot(theta) - y)\n",
        "    \n",
        "    # Actualizamos los valores de theta\n",
        "    theta = theta - learning_rate * gradients\n",
        "\n",
        "# Imprimimos los parámetros finales encontrados\n",
        "print(\"Parámetros óptimos (theta):\\n\", theta)\n"
      ]
    },
    {
      "cell_type": "markdown",
      "metadata": {},
      "source": [
        "## 2 Examples: Python functions and classes"
      ]
    },
    {
      "cell_type": "markdown",
      "metadata": {},
      "source": [
        "1. Función Simple"
      ]
    },
    {
      "cell_type": "code",
      "execution_count": 56,
      "metadata": {},
      "outputs": [
        {
          "name": "stdout",
          "output_type": "stream",
          "text": [
            "Hello, Ana!\n"
          ]
        }
      ],
      "source": [
        "# Definimos una función que recibe un nombre y devuelve un saludo\n",
        "def greet(name):\n",
        "    return \"Hello, \" + name + \"!\"\n",
        "\n",
        "# Llamamos a la función\n",
        "print(greet(\"Ana\"))  # Output: Hello, Ana!\n"
      ]
    },
    {
      "cell_type": "markdown",
      "metadata": {},
      "source": [
        "2. Función con Parámetros y Retorno"
      ]
    },
    {
      "cell_type": "code",
      "execution_count": 57,
      "metadata": {},
      "outputs": [
        {
          "name": "stdout",
          "output_type": "stream",
          "text": [
            "12\n"
          ]
        }
      ],
      "source": [
        "# Función que recibe dos números, los suma y retorna el resultado\n",
        "def add_numbers(a, b):\n",
        "    sum = a + b\n",
        "    return sum\n",
        "\n",
        "# Llamamos la función con los números 5 y 7\n",
        "result = add_numbers(5, 7)\n",
        "print(result)  # Output: 12\n"
      ]
    },
    {
      "cell_type": "markdown",
      "metadata": {},
      "source": [
        "3. Función con Parámetro por Defecto"
      ]
    },
    {
      "cell_type": "code",
      "execution_count": 58,
      "metadata": {},
      "outputs": [
        {
          "name": "stdout",
          "output_type": "stream",
          "text": [
            "9\n",
            "8\n"
          ]
        }
      ],
      "source": [
        "# Función que eleva un número a una potencia (por defecto al cuadrado)\n",
        "def power(base, exponent=2):\n",
        "    return base ** exponent\n",
        "\n",
        "# Llamadas a la función con y sin segundo parámetro\n",
        "print(power(3))      # Output: 9 (3^2)\n",
        "print(power(2, 3))   # Output: 8 (2^3)\n"
      ]
    },
    {
      "cell_type": "markdown",
      "metadata": {},
      "source": [
        "4. Función con Múltiples Valores de Retorno"
      ]
    },
    {
      "cell_type": "code",
      "execution_count": 59,
      "metadata": {},
      "outputs": [
        {
          "name": "stdout",
          "output_type": "stream",
          "text": [
            "2 9\n"
          ]
        }
      ],
      "source": [
        "# Función que retorna el mínimo y el máximo de una lista\n",
        "def min_max(numbers):\n",
        "    return min(numbers), max(numbers)\n",
        "\n",
        "# Lista de números\n",
        "nums = [4, 9, 2, 7, 5]\n",
        "\n",
        "# Guardamos los valores retornados en dos variables\n",
        "minimum, maximum = min_max(nums)\n",
        "print(minimum, maximum)  # Output: 2 9\n"
      ]
    },
    {
      "cell_type": "markdown",
      "metadata": {},
      "source": [
        "5. Función con Docstring"
      ]
    },
    {
      "cell_type": "code",
      "execution_count": 60,
      "metadata": {},
      "outputs": [
        {
          "name": "stdout",
          "output_type": "stream",
          "text": [
            "15\n"
          ]
        }
      ],
      "source": [
        "# Función con una descripción formal de su funcionamiento\n",
        "def area_of_rectangle(length, width):\n",
        "    \"\"\"\n",
        "    Calcula el área de un rectángulo.\n",
        "    \n",
        "    Args:\n",
        "        length (float): Largo del rectángulo.\n",
        "        width (float): Ancho del rectángulo.\n",
        "        \n",
        "    Returns:\n",
        "        float: Área del rectángulo.\n",
        "    \"\"\"\n",
        "    return length * width\n",
        "\n",
        "# Ejemplo de uso\n",
        "print(area_of_rectangle(5, 3))  # Output: 15\n"
      ]
    },
    {
      "cell_type": "markdown",
      "metadata": {},
      "source": [
        "6. Clase Simple"
      ]
    },
    {
      "cell_type": "code",
      "execution_count": 61,
      "metadata": {},
      "outputs": [
        {
          "name": "stdout",
          "output_type": "stream",
          "text": [
            "Buddy is barking!\n"
          ]
        }
      ],
      "source": [
        "# Creamos una clase Dog\n",
        "class Dog:\n",
        "    def __init__(self, name, age):\n",
        "        self.name = name  # Atributo nombre\n",
        "        self.age = age    # Atributo edad\n",
        "\n",
        "    def bark(self):\n",
        "        print(f\"{self.name} is barking!\")\n",
        "\n",
        "# Creamos una instancia (objeto) de la clase Dog\n",
        "dog1 = Dog(\"Buddy\", 3)\n",
        "dog1.bark()  # Output: Buddy is barking!\n"
      ]
    },
    {
      "cell_type": "markdown",
      "metadata": {},
      "source": [
        "7. Métodos y Atributos en Clases"
      ]
    },
    {
      "cell_type": "code",
      "execution_count": 62,
      "metadata": {},
      "outputs": [
        {
          "name": "stdout",
          "output_type": "stream",
          "text": [
            "Alice’s average grade: 88.5\n"
          ]
        }
      ],
      "source": [
        "# Clase Student con atributos y métodos adicionales\n",
        "class Student:\n",
        "    def __init__(self, name, age):\n",
        "        self.name = name\n",
        "        self.age = age\n",
        "        self.grades = []  # Lista vacía para almacenar calificaciones\n",
        "\n",
        "    def add_grade(self, grade):\n",
        "        self.grades.append(grade)  # Añade una calificación\n",
        "\n",
        "    def get_average_grade(self):\n",
        "        return sum(self.grades) / len(self.grades)  # Promedio\n",
        "\n",
        "# Creamos un estudiante\n",
        "student1 = Student(\"Alice\", 18)\n",
        "student1.add_grade(85)\n",
        "student1.add_grade(92)\n",
        "average_grade = student1.get_average_grade()\n",
        "print(f\"{student1.name}’s average grade: {average_grade}\")  # Output: Alice’s average grade: 88.5\n"
      ]
    },
    {
      "cell_type": "markdown",
      "metadata": {},
      "source": [
        " 8. Herencia de Clases"
      ]
    },
    {
      "cell_type": "code",
      "execution_count": 63,
      "metadata": {},
      "outputs": [
        {
          "name": "stdout",
          "output_type": "stream",
          "text": [
            "Whiskers says Meow!\n",
            "Buddy says Woof!\n"
          ]
        }
      ],
      "source": [
        "# Clase base Animal\n",
        "class Animal:\n",
        "    def __init__(self, name):\n",
        "        self.name = name\n",
        "\n",
        "    def speak(self):\n",
        "        pass  # Método vacío que será sobreescrito\n",
        "\n",
        "# Clase Cat que hereda de Animal\n",
        "class Cat(Animal):\n",
        "    def speak(self):\n",
        "        print(f\"{self.name} says Meow!\")\n",
        "\n",
        "# Clase Dog que hereda de Animal\n",
        "class Dog(Animal):\n",
        "    def speak(self):\n",
        "        print(f\"{self.name} says Woof!\")\n",
        "\n",
        "# Creamos instancias de Cat y Dog\n",
        "cat = Cat(\"Whiskers\")\n",
        "dog = Dog(\"Buddy\")\n",
        "\n",
        "cat.speak()  # Output: Whiskers says Meow!\n",
        "dog.speak()  # Output: Buddy says Woof!\n"
      ]
    },
    {
      "cell_type": "markdown",
      "metadata": {},
      "source": [
        "## Solución de ejercicios"
      ]
    },
    {
      "cell_type": "markdown",
      "metadata": {},
      "source": [
        "3.1 Indexing Arrays in NumPy"
      ]
    },
    {
      "cell_type": "code",
      "execution_count": 64,
      "metadata": {},
      "outputs": [
        {
          "name": "stdout",
          "output_type": "stream",
          "text": [
            "Tercer elemento: 1\n",
            "Elementos del índice 1 al 3: [7 1 9]\n",
            "Array modificado: [ 3  7  1 12  5]\n",
            "Elemento [1,2]: 6\n",
            "Submatriz (2 primeras filas):\n",
            " [[1 2 3]\n",
            " [4 5 6]]\n"
          ]
        }
      ],
      "source": [
        "import numpy as np\n",
        "\n",
        "# 1. Array de ejemplo\n",
        "arr = np.array([3, 7, 1, 9, 5])\n",
        "\n",
        "# a) Recuperar el tercer elemento (índice 2)\n",
        "print(\"Tercer elemento:\", arr[2])  # Output: 1\n",
        "\n",
        "# b) Rebanar del índice 1 al 3 (no incluye el 4)\n",
        "print(\"Elementos del índice 1 al 3:\", arr[1:4])  # Output: [7 1 9]\n",
        "\n",
        "# c) Cambiar el cuarto elemento (índice 3) a 12\n",
        "arr[3] = 12\n",
        "print(\"Array modificado:\", arr)  # Output: [3 7 1 12 5]\n",
        "\n",
        "# 2. Crear una matriz 2D\n",
        "matrix = np.array([[1, 2, 3],\n",
        "                   [4, 5, 6],\n",
        "                   [7, 8, 9]])\n",
        "\n",
        "# a) Elemento en la segunda fila, tercera columna (índice 1,2)\n",
        "print(\"Elemento [1,2]:\", matrix[1, 2])  # Output: 6\n",
        "\n",
        "# b) Submatriz de las dos primeras filas y todas las columnas\n",
        "print(\"Submatriz (2 primeras filas):\\n\", matrix[:2, :])\n"
      ]
    },
    {
      "cell_type": "markdown",
      "metadata": {},
      "source": [
        "3.2 Indexing and Slicing Higher-Dimensional Tensors"
      ]
    },
    {
      "cell_type": "code",
      "execution_count": 65,
      "metadata": {},
      "outputs": [
        {
          "name": "stdout",
          "output_type": "stream",
          "text": [
            "Elemento [1, 0, 2]: 15\n",
            "Segunda matriz:\n",
            " [[13 14 15 16]\n",
            " [17 18 19 20]\n",
            " [21 22 23 24]]\n",
            "Última fila de las dos últimas matrices:\n",
            " [[21 22 23 24]\n",
            " [33 34 35 36]]\n",
            "Elemento [2, 1, 3]: 32\n",
            "Primera fila de las dos últimas matrices:\n",
            " [[13 14 15 16]\n",
            " [25 26 27 28]]\n"
          ]
        }
      ],
      "source": [
        "# Crear el tensor 3D\n",
        "tensor = np.array([\n",
        "    [[1, 2, 3, 4],\n",
        "     [5, 6, 7, 8],\n",
        "     [9, 10, 11, 12]],\n",
        "\n",
        "    [[13, 14, 15, 16],\n",
        "     [17, 18, 19, 20],\n",
        "     [21, 22, 23, 24]],\n",
        "\n",
        "    [[25, 26, 27, 28],\n",
        "     [29, 30, 31, 32],\n",
        "     [33, 34, 35, 36]]\n",
        "])\n",
        "\n",
        "# 1. Elemento en la posición (1, 0, 2)\n",
        "print(\"Elemento [1, 0, 2]:\", tensor[1, 0, 2])  # Output: 15\n",
        "\n",
        "# 2. Subtensor (segunda matriz)\n",
        "print(\"Segunda matriz:\\n\", tensor[1])  # Output: 3x4 submatriz\n",
        "\n",
        "# 3. Última fila de las dos últimas matrices\n",
        "print(\"Última fila de las dos últimas matrices:\\n\", tensor[1:, 2, :])  # Output: 2x4\n",
        "\n",
        "# 4. Elemento en la posición (2, 1, 3)\n",
        "print(\"Elemento [2, 1, 3]:\", tensor[2, 1, 3])  # Output: 32\n",
        "\n",
        "# 5. Primera fila de las dos últimas matrices\n",
        "print(\"Primera fila de las dos últimas matrices:\\n\", tensor[1:, 0, :])  # Output: 2x4\n"
      ]
    },
    {
      "cell_type": "markdown",
      "metadata": {},
      "source": [
        "3.3 Defining Functions in Python"
      ]
    },
    {
      "cell_type": "code",
      "execution_count": 66,
      "metadata": {},
      "outputs": [
        {
          "name": "stdout",
          "output_type": "stream",
          "text": [
            "Promedio: 20.0\n",
            "3^2: 9\n",
            "2^3: 8\n"
          ]
        }
      ],
      "source": [
        "# 1. Calcular promedio de una lista\n",
        "def calculate_average(numbers):\n",
        "    return sum(numbers) / len(numbers)\n",
        "\n",
        "print(\"Promedio:\", calculate_average([10, 20, 30]))  # Output: 20.0\n",
        "\n",
        "# 2. Calcular potencia con valor por defecto\n",
        "def find_power(base, exponent=2):\n",
        "    return base ** exponent\n",
        "\n",
        "print(\"3^2:\", find_power(3))       # Output: 9\n",
        "print(\"2^3:\", find_power(2, 3))    # Output: 8\n"
      ]
    },
    {
      "cell_type": "markdown",
      "metadata": {},
      "source": [
        "3.4 Implementing Gradient Descent Optimization"
      ]
    },
    {
      "cell_type": "code",
      "execution_count": 67,
      "metadata": {},
      "outputs": [
        {
          "name": "stdout",
          "output_type": "stream",
          "text": [
            "Theta final:\n",
            " [[0.69889085]\n",
            " [2.50030722]]\n"
          ]
        }
      ],
      "source": [
        "import matplotlib.pyplot as plt\n",
        "#1\n",
        "# Datos de entrada\n",
        "X = np.array([1, 2, 3, 4, 5]).reshape(-1, 1)\n",
        "y = np.array([3, 6, 8, 11, 13]).reshape(-1, 1)\n",
        "\n",
        "# Agregar el término de sesgo (bias)\n",
        "X_b = np.c_[np.ones((len(X), 1)), X]\n",
        "\n",
        "# Inicializar parámetros theta aleatoriamente\n",
        "theta = np.random.randn(2, 1)\n",
        "\n",
        "# Hiperparámetros\n",
        "learning_rate = 0.01\n",
        "n_iterations = 1000\n",
        "\n",
        "# Guardar los valores de theta para graficar\n",
        "theta_history = []\n",
        "\n",
        "# Descenso de gradiente\n",
        "for iteration in range(n_iterations):\n",
        "    gradients = 2 / len(X_b) * X_b.T.dot(X_b.dot(theta) - y)\n",
        "    theta = theta - learning_rate * gradients\n",
        "    theta_history.append(theta.copy())\n",
        "\n",
        "print(\"Theta final:\\n\", theta)\n"
      ]
    },
    {
      "cell_type": "markdown",
      "metadata": {},
      "source": [
        "Gráfico de la evolución de θ₀ y θ₁"
      ]
    },
    {
      "cell_type": "code",
      "execution_count": 68,
      "metadata": {},
      "outputs": [
        {
          "data": {
            "image/png": "[encoded data removed]",
            "text/plain": [
              "<Figure size 640x480 with 1 Axes>"
            ]
          },
          "metadata": {},
          "output_type": "display_data"
        }
      ],
      "source": [
        "#2\n",
        "# Convertimos la historia de theta en un array para graficar\n",
        "theta_history = np.array(theta_history).reshape(n_iterations, 2)\n",
        "\n",
        "# Graficar la evolución de los parámetros\n",
        "plt.plot(range(n_iterations), theta_history[:, 0], label=\"θ0\")\n",
        "plt.plot(range(n_iterations), theta_history[:, 1], label=\"θ1\")\n",
        "plt.xlabel(\"Iteraciones\")\n",
        "plt.ylabel(\"Valor de θ\")\n",
        "plt.title(\"Evolución de θ0 y θ1\")\n",
        "plt.legend()\n",
        "plt.grid(True)\n",
        "plt.show()\n"
      ]
    },
    {
      "cell_type": "markdown",
      "metadata": {},
      "source": [
        "\n",
        "### Explain in your own words the purpose of the learning rate in gradient descent optimization.\n",
        "#3\n",
        "\n",
        "Para poder entender el propósito del learning rate en el descenso de gradiente, es necesario comprenderlo de la forma más básica posible. En este caso, podemos imaginarlo como dar pasos para llegar al punto más bajo de una montaña. Ahora bien, ¿qué función cumple el learning rate dentro del descenso? Su función es determinar qué tan grandes serán los pasos que se darán para intentar llegar al fondo. Para tener en cuenta:\n",
        "\n",
        "* Si el learning rate es muy grande, puede que el algoritmo \"salte\" de un lado a otro sin alcanzar el mínimo.\n",
        "\n",
        "* Si es muy pequeño, puede tardar mucho tiempo en llegar al resultado final."
      ]
    }
  ],
  "metadata": {
    "colab": {
      "provenance": []
    },
    "kernelspec": {
      "display_name": "base",
      "language": "python",
      "name": "python3"
    },
    "language_info": {
      "codemirror_mode": {
        "name": "ipython",
        "version": 3
      },
      "file_extension": ".py",
      "mimetype": "text/x-python",
      "name": "python",
      "nbconvert_exporter": "python",
      "pygments_lexer": "ipython3",
      "version": "3.12.9"
    }
  },
  "nbformat": 4,
  "nbformat_minor": 0
}
